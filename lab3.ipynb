{
  "nbformat": 4,
  "nbformat_minor": 0,
  "metadata": {
    "colab": {
      "provenance": []
    },
    "kernelspec": {
      "name": "python3",
      "display_name": "Python 3"
    },
    "language_info": {
      "name": "python"
    }
  },
  "cells": [
    {
      "cell_type": "markdown",
      "source": [
        "Cost Function"
      ],
      "metadata": {
        "id": "jSvx1LNusJpM"
      }
    },
    {
      "cell_type": "code",
      "execution_count": 1,
      "metadata": {
        "id": "w6EeLm36n_2k"
      },
      "outputs": [],
      "source": [
        "import matplotlib.pyplot as plt\n",
        "import numpy as np"
      ]
    },
    {
      "cell_type": "code",
      "source": [
        "x = [1, 2, 3]\n",
        "y = [2.5, 3.5, 4.5]\n",
        "\n",
        "hyp = [0.5, 3, 1.5]"
      ],
      "metadata": {
        "id": "Zw22Ti0morAp"
      },
      "execution_count": 2,
      "outputs": []
    },
    {
      "cell_type": "code",
      "source": [
        "# mutiply the original X values by the theta\n",
        "# to produce hypothesis values for each X\n",
        "def multiply_matrix(mat, theta):\n",
        "    mutated = []\n",
        "    for i in range(len(mat)):\n",
        "        mutated.append(mat[i] * theta)\n",
        "\n",
        "    return mutated"
      ],
      "metadata": {
        "id": "pO7z9-g8oEBN"
      },
      "execution_count": 3,
      "outputs": []
    },
    {
      "cell_type": "code",
      "source": [
        "# calculate cost by looping each sample\n",
        "# subtract hyp(x) from y\n",
        "# square the result\n",
        "# sum them all together\n",
        "def calc_cost(m, X, y):\n",
        "    total = 0\n",
        "    for i in range(m):\n",
        "        squared_error = (y[i] - X[i]) ** 2\n",
        "        total += squared_error\n",
        "\n",
        "    return total * (1 / (2*m))\n"
      ],
      "metadata": {
        "id": "XsZj9QMjoEE7"
      },
      "execution_count": 4,
      "outputs": []
    },
    {
      "cell_type": "code",
      "source": [
        "for i in range(len(hyp)):\n",
        "    hyp_values = multiply_matrix(x, hyp[i])\n",
        "\n",
        "    print(\"Cost for \", hyp[i], \" is \", calc_cost(len(x), y, hyp_values))"
      ],
      "metadata": {
        "colab": {
          "base_uri": "https://localhost:8080/"
        },
        "id": "-oiZEGjbrgXE",
        "outputId": "c9843c03-0608-4d99-9d08-87af9beb0027"
      },
      "execution_count": 5,
      "outputs": [
        {
          "output_type": "stream",
          "name": "stdout",
          "text": [
            "Cost for  0.5  is  3.208333333333333\n",
            "Cost for  3  is  4.458333333333333\n",
            "Cost for  1.5  is  0.20833333333333331\n"
          ]
        }
      ]
    },
    {
      "cell_type": "markdown",
      "source": [
        "Gradient Descent"
      ],
      "metadata": {
        "id": "LDRmGCZlqRqh"
      }
    },
    {
      "cell_type": "code",
      "source": [
        "def gradient_descent(X, y, theta, alpha, iterations):\n",
        "    m = len(y)\n",
        "    cost_history = []\n",
        "\n",
        "    theta = [theta, 0]\n",
        "\n",
        "    for _ in range(iterations):\n",
        "\n",
        "        hypothesis = [theta[0] + theta[1] * x_i for x_i in X]\n",
        "\n",
        "        error = [hypothesis[i] - y[i] for i in range(m)]\n",
        "\n",
        "        gradient_0 = (1/m) * sum(error)  # Gradient for theta_0\n",
        "        gradient_1 = (1/m) * sum([error[i] * X[i] for i in range(m)])  # Gradient for theta_1\n",
        "\n",
        "        # Update parameters\n",
        "        theta[0] = theta[0] - alpha * gradient_0\n",
        "        theta[1] = theta[1] - alpha * gradient_1\n",
        "\n",
        "        # Calculate cost (Mean Squared Error)\n",
        "        cost = (1/(2*m)) * sum([(hypothesis[i] - y[i]) ** 2 for i in range(m)])\n",
        "        cost_history.append(cost)\n",
        "\n",
        "    return theta, cost_history\n"
      ],
      "metadata": {
        "id": "C9avLFE32UZJ"
      },
      "execution_count": 14,
      "outputs": []
    },
    {
      "cell_type": "code",
      "source": [
        "theta = 0.5  # Initial value for theta\n",
        "alpha = 0.000001  # Learning rate\n",
        "iterations = 1000000\n",
        "\n",
        "theta, cost_history = gradient_descent(x, y, theta, alpha, iterations)"
      ],
      "metadata": {
        "id": "Z7GYa8562UdC"
      },
      "execution_count": 15,
      "outputs": []
    },
    {
      "cell_type": "code",
      "source": [
        "print(\"Optimized theta:\", theta)\n",
        "print(\"Final Cost:\", cost_history[-1])"
      ],
      "metadata": {
        "colab": {
          "base_uri": "https://localhost:8080/"
        },
        "id": "hzjEuQBH2UgS",
        "outputId": "0b598ef4-af54-4bbf-8427-ac1be6767a40"
      },
      "execution_count": 16,
      "outputs": [
        {
          "output_type": "stream",
          "name": "stdout",
          "text": [
            "Optimized theta: [1.0817927416683304, 1.1783528270412225]\n",
            "Final Cost: 0.012494471099754993\n"
          ]
        }
      ]
    },
    {
      "cell_type": "code",
      "source": [
        "plt.plot(range(iterations), cost_history)\n",
        "plt.xlabel('Iterations')\n",
        "plt.ylabel('Cost')\n",
        "plt.title('Gradient Descent Cost History')\n",
        "plt.show()"
      ],
      "metadata": {
        "colab": {
          "base_uri": "https://localhost:8080/",
          "height": 472
        },
        "id": "606KFoiu2Ujw",
        "outputId": "86ba001a-111e-4545-d2d7-ea860418822b"
      },
      "execution_count": 17,
      "outputs": [
        {
          "output_type": "display_data",
          "data": {
            "text/plain": [
              "<Figure size 640x480 with 1 Axes>"
            ],
            "image/png": "[encoded data removed]"
          },
          "metadata": {}
        }
      ]
    }
  ]
}